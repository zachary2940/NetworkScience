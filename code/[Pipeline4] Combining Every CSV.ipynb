{
 "cells": [
  {
   "cell_type": "markdown",
   "id": "hired-composition",
   "metadata": {},
   "source": [
    "<a id=\"top\"></a>\n",
    "\n",
    "<div class=\"list-group\" id=\"list-tab\" role=\"tablist\">\n",
    "<h3 class=\"list-group-item list-group-item-action active\" data-toggle=\"list\" style='color:white; background:#7a96ea; border:0' role=\"tab\" aria-controls=\"home\"><center><font color = 'white'>Quick Navigation</font></center></h3>\n",
    "\n",
    "* [1. Combining All SCSE Faculty CSVs](#0)\n",
    "* [2. Drop Duplicate Rows](#1)\n",
    "* [3. Combining Faculty.csv with Merged Dataframe](#2)\n"
   ]
  },
  {
   "cell_type": "code",
   "execution_count": 1,
   "id": "worldwide-cancellation",
   "metadata": {},
   "outputs": [],
   "source": [
    "import pandas as pd\n",
    "import os\n",
    "from tqdm import tqdm"
   ]
  },
  {
   "cell_type": "markdown",
   "id": "atomic-entrepreneur",
   "metadata": {},
   "source": [
    "<a id=\"0\"></a>\n",
    "<h2 style='background:#7a96ea; border:0; color:white'><center><font color = 'white'>1. Combining All SCSE Faculty CSVs</font><center><h2>"
   ]
  },
  {
   "cell_type": "code",
   "execution_count": 2,
   "id": "corrected-casino",
   "metadata": {},
   "outputs": [
    {
     "name": "stderr",
     "output_type": "stream",
     "text": [
      "100%|██████████████████████████████████████████████████████████████████████████████████| 86/86 [00:01<00:00, 79.56it/s]"
     ]
    },
    {
     "name": "stdout",
     "output_type": "stream",
     "text": [
      "Successfully Completed? True\n"
     ]
    },
    {
     "name": "stderr",
     "output_type": "stream",
     "text": [
      "\n"
     ]
    }
   ],
   "source": [
    "df = pd.DataFrame(columns=['author', 'author-pid', 'paper', 'conference', 'year', 'title'])\n",
    "expected_length = 0\n",
    "\n",
    "for f in tqdm(os.listdir('../data/')):\n",
    "    if f == \"Top.csv\" or f==\"Faculty.csv\":\n",
    "        continue\n",
    "    df1 = pd.read_csv('../data/'+f)\n",
    "    expected_length += len(df1)\n",
    "    df = pd.concat([df, df1], ignore_index=True)\n",
    "    \n",
    "    # Clean up the unncessary csvs\n",
    "    os.remove('../data/'+f)\n",
    "\n",
    "print(\"Successfully Completed?\", expected_length==len(df))"
   ]
  },
  {
   "cell_type": "markdown",
   "id": "composed-diploma",
   "metadata": {},
   "source": [
    "[Back to Top](#top)\n",
    "<a id=\"1\"></a>\n",
    "<h2 style='background:#7a96ea; border:0; color:white'><center><font color = 'white'>2. Drop Duplicate Rows</font><center><h2>"
   ]
  },
  {
   "cell_type": "code",
   "execution_count": 3,
   "id": "raising-spokesman",
   "metadata": {},
   "outputs": [
    {
     "name": "stdout",
     "output_type": "stream",
     "text": [
      "Current length of df: 56247\n",
      "Number of Duplicated Rows (Excluding the first occurence): 7659\n",
      "\n",
      "Expected length of df after removing duplicates: 48588\n",
      "Length of df after removing duplicates: 48588\n",
      "Number of Duplicated Rows after Cleaning: 0\n"
     ]
    }
   ],
   "source": [
    "duplicates = df[df.duplicated()]\n",
    "print(\"Current length of df:\", len(df))\n",
    "print(\"Number of Duplicated Rows (Excluding the first occurence):\", len(duplicates))\n",
    "print(\"\\nExpected length of df after removing duplicates:\", len(df)-len(duplicates))\n",
    "df = df.drop_duplicates()\n",
    "duplicates = df[df.duplicated()]\n",
    "print(\"Length of df after removing duplicates:\", len(df))\n",
    "print(\"Number of Duplicated Rows after Cleaning:\", len(duplicates))"
   ]
  },
  {
   "cell_type": "markdown",
   "id": "mobile-spell",
   "metadata": {},
   "source": [
    "[Back to Top](#top)\n",
    "\n",
    "<a id=\"2\"></a>\n",
    "<h2 style='background:#7a96ea; border:0; color:white'><center><font color = 'white'>3. Combining Faculty.csv with Merged Dataframe</font><center><h2>"
   ]
  },
  {
   "cell_type": "code",
   "execution_count": 5,
   "id": "blank-precipitation",
   "metadata": {},
   "outputs": [
    {
     "data": {
      "text/html": [
       "<div>\n",
       "<style scoped>\n",
       "    .dataframe tbody tr th:only-of-type {\n",
       "        vertical-align: middle;\n",
       "    }\n",
       "\n",
       "    .dataframe tbody tr th {\n",
       "        vertical-align: top;\n",
       "    }\n",
       "\n",
       "    .dataframe thead th {\n",
       "        text-align: right;\n",
       "    }\n",
       "</style>\n",
       "<table border=\"1\" class=\"dataframe\">\n",
       "  <thead>\n",
       "    <tr style=\"text-align: right;\">\n",
       "      <th></th>\n",
       "      <th>Faculty</th>\n",
       "      <th>Position</th>\n",
       "      <th>Gender</th>\n",
       "      <th>Management</th>\n",
       "      <th>Area</th>\n",
       "      <th>author-pid</th>\n",
       "    </tr>\n",
       "  </thead>\n",
       "  <tbody>\n",
       "    <tr>\n",
       "      <th>0</th>\n",
       "      <td>A S Madhukumar</td>\n",
       "      <td>Associate Professor</td>\n",
       "      <td>M</td>\n",
       "      <td>N</td>\n",
       "      <td>Computer Networks</td>\n",
       "      <td>66/549</td>\n",
       "    </tr>\n",
       "    <tr>\n",
       "      <th>1</th>\n",
       "      <td>Alexei Sourin</td>\n",
       "      <td>Associate Professor</td>\n",
       "      <td>M</td>\n",
       "      <td>N</td>\n",
       "      <td>Computer Graphics</td>\n",
       "      <td>15/3108</td>\n",
       "    </tr>\n",
       "    <tr>\n",
       "      <th>2</th>\n",
       "      <td>Anupam Chattopadhyay</td>\n",
       "      <td>Associate Professor</td>\n",
       "      <td>M</td>\n",
       "      <td>N</td>\n",
       "      <td>Computer Architecture</td>\n",
       "      <td>99/4535</td>\n",
       "    </tr>\n",
       "    <tr>\n",
       "      <th>3</th>\n",
       "      <td>Anwitaman Datta</td>\n",
       "      <td>Associate Professor</td>\n",
       "      <td>M</td>\n",
       "      <td>N</td>\n",
       "      <td>Distributed Systems</td>\n",
       "      <td>d/AnwitamanDatta</td>\n",
       "    </tr>\n",
       "    <tr>\n",
       "      <th>4</th>\n",
       "      <td>Arijit Khan</td>\n",
       "      <td>Assistant Professor</td>\n",
       "      <td>M</td>\n",
       "      <td>N</td>\n",
       "      <td>Data Management</td>\n",
       "      <td>67/2933</td>\n",
       "    </tr>\n",
       "  </tbody>\n",
       "</table>\n",
       "</div>"
      ],
      "text/plain": [
       "                Faculty             Position Gender Management  \\\n",
       "0        A S Madhukumar  Associate Professor      M          N   \n",
       "1         Alexei Sourin  Associate Professor      M          N   \n",
       "2  Anupam Chattopadhyay  Associate Professor      M          N   \n",
       "3       Anwitaman Datta  Associate Professor      M          N   \n",
       "4           Arijit Khan  Assistant Professor      M          N   \n",
       "\n",
       "                    Area        author-pid  \n",
       "0      Computer Networks            66/549  \n",
       "1      Computer Graphics           15/3108  \n",
       "2  Computer Architecture           99/4535  \n",
       "3    Distributed Systems  d/AnwitamanDatta  \n",
       "4        Data Management           67/2933  "
      ]
     },
     "execution_count": 5,
     "metadata": {},
     "output_type": "execute_result"
    }
   ],
   "source": [
    "fac_df = pd.read_csv('../data/Faculty.csv')\n",
    "fac_df = fac_df.drop(columns=['DBLP'])\n",
    "fac_author_pid = list(fac_df['author-pid'])\n",
    "fac_df.head()"
   ]
  },
  {
   "cell_type": "code",
   "execution_count": 6,
   "id": "related-special",
   "metadata": {},
   "outputs": [
    {
     "data": {
      "text/html": [
       "<div>\n",
       "<style scoped>\n",
       "    .dataframe tbody tr th:only-of-type {\n",
       "        vertical-align: middle;\n",
       "    }\n",
       "\n",
       "    .dataframe tbody tr th {\n",
       "        vertical-align: top;\n",
       "    }\n",
       "\n",
       "    .dataframe thead th {\n",
       "        text-align: right;\n",
       "    }\n",
       "</style>\n",
       "<table border=\"1\" class=\"dataframe\">\n",
       "  <thead>\n",
       "    <tr style=\"text-align: right;\">\n",
       "      <th></th>\n",
       "      <th>author</th>\n",
       "      <th>author-pid</th>\n",
       "      <th>paper</th>\n",
       "      <th>conference</th>\n",
       "      <th>year</th>\n",
       "      <th>title</th>\n",
       "      <th>Faculty</th>\n",
       "      <th>Position</th>\n",
       "      <th>Gender</th>\n",
       "      <th>Management</th>\n",
       "      <th>Area</th>\n",
       "    </tr>\n",
       "  </thead>\n",
       "  <tbody>\n",
       "    <tr>\n",
       "      <th>0</th>\n",
       "      <td>Libin K. Mathew</td>\n",
       "      <td>220/2200</td>\n",
       "      <td>journals/cssp/MathewSVM20</td>\n",
       "      <td>NaN</td>\n",
       "      <td>2020</td>\n",
       "      <td>An Adaptive Energy Detection Scheme with Real-...</td>\n",
       "      <td>NaN</td>\n",
       "      <td>NaN</td>\n",
       "      <td>NaN</td>\n",
       "      <td>NaN</td>\n",
       "      <td>NaN</td>\n",
       "    </tr>\n",
       "    <tr>\n",
       "      <th>1</th>\n",
       "      <td>Shanker Shreejith</td>\n",
       "      <td>126/8221</td>\n",
       "      <td>journals/cssp/MathewSVM20</td>\n",
       "      <td>NaN</td>\n",
       "      <td>2020</td>\n",
       "      <td>An Adaptive Energy Detection Scheme with Real-...</td>\n",
       "      <td>NaN</td>\n",
       "      <td>NaN</td>\n",
       "      <td>NaN</td>\n",
       "      <td>NaN</td>\n",
       "      <td>NaN</td>\n",
       "    </tr>\n",
       "    <tr>\n",
       "      <th>2</th>\n",
       "      <td>A. Prasad Vinod</td>\n",
       "      <td>92/249</td>\n",
       "      <td>journals/cssp/MathewSVM20</td>\n",
       "      <td>NaN</td>\n",
       "      <td>2020</td>\n",
       "      <td>An Adaptive Energy Detection Scheme with Real-...</td>\n",
       "      <td>NaN</td>\n",
       "      <td>NaN</td>\n",
       "      <td>NaN</td>\n",
       "      <td>NaN</td>\n",
       "      <td>NaN</td>\n",
       "    </tr>\n",
       "    <tr>\n",
       "      <th>3</th>\n",
       "      <td>A. S. Madhukumar</td>\n",
       "      <td>66/549</td>\n",
       "      <td>journals/cssp/MathewSVM20</td>\n",
       "      <td>NaN</td>\n",
       "      <td>2020</td>\n",
       "      <td>An Adaptive Energy Detection Scheme with Real-...</td>\n",
       "      <td>A S Madhukumar</td>\n",
       "      <td>Associate Professor</td>\n",
       "      <td>M</td>\n",
       "      <td>N</td>\n",
       "      <td>Computer Networks</td>\n",
       "    </tr>\n",
       "  </tbody>\n",
       "</table>\n",
       "</div>"
      ],
      "text/plain": [
       "              author author-pid                      paper conference  year  \\\n",
       "0    Libin K. Mathew   220/2200  journals/cssp/MathewSVM20        NaN  2020   \n",
       "1  Shanker Shreejith   126/8221  journals/cssp/MathewSVM20        NaN  2020   \n",
       "2    A. Prasad Vinod     92/249  journals/cssp/MathewSVM20        NaN  2020   \n",
       "3   A. S. Madhukumar     66/549  journals/cssp/MathewSVM20        NaN  2020   \n",
       "\n",
       "                                               title         Faculty  \\\n",
       "0  An Adaptive Energy Detection Scheme with Real-...             NaN   \n",
       "1  An Adaptive Energy Detection Scheme with Real-...             NaN   \n",
       "2  An Adaptive Energy Detection Scheme with Real-...             NaN   \n",
       "3  An Adaptive Energy Detection Scheme with Real-...  A S Madhukumar   \n",
       "\n",
       "              Position Gender Management               Area  \n",
       "0                  NaN    NaN        NaN                NaN  \n",
       "1                  NaN    NaN        NaN                NaN  \n",
       "2                  NaN    NaN        NaN                NaN  \n",
       "3  Associate Professor      M          N  Computer Networks  "
      ]
     },
     "execution_count": 6,
     "metadata": {},
     "output_type": "execute_result"
    }
   ],
   "source": [
    "joined_df = pd.merge(df, fac_df, on=['author-pid'], how='left')\n",
    "joined_df.head(4)"
   ]
  },
  {
   "cell_type": "code",
   "execution_count": 7,
   "id": "joined-uzbekistan",
   "metadata": {},
   "outputs": [
    {
     "name": "stdout",
     "output_type": "stream",
     "text": [
      "Number of SCSE Faculty Members in df: 13224\n",
      "Number of rows in joined_df successfully filled after join: 13224\n"
     ]
    }
   ],
   "source": [
    "print(\"Number of SCSE Faculty Members in df:\", len(df.loc[df['author-pid'].isin(fac_author_pid)]))\n",
    "print(\"Number of rows in joined_df successfully filled after join:\", len(joined_df.loc[joined_df['Management'].notnull()]))"
   ]
  },
  {
   "cell_type": "code",
   "execution_count": 8,
   "id": "proprietary-macintosh",
   "metadata": {},
   "outputs": [
    {
     "name": "stdout",
     "output_type": "stream",
     "text": [
      "SCSE_df length: 13224\n",
      "Non_SCSE_df length: 35364\n",
      "Successfully partitioned: True\n"
     ]
    }
   ],
   "source": [
    "SCSE_df = joined_df.loc[joined_df['Position'].notnull()]\n",
    "Non_SCSE_df = joined_df.loc[~joined_df['Position'].notnull()]\n",
    "\n",
    "print(\"SCSE_df length:\", len(SCSE_df))\n",
    "print(\"Non_SCSE_df length:\", len(Non_SCSE_df))\n",
    "print(\"Successfully partitioned:\", len(SCSE_df)+len(Non_SCSE_df)==len(joined_df))"
   ]
  },
  {
   "cell_type": "code",
   "execution_count": 9,
   "id": "alert-organ",
   "metadata": {},
   "outputs": [
    {
     "name": "stdout",
     "output_type": "stream",
     "text": [
      "Non_SCSE_df correctly partitioned: True\n",
      "SCSE_df correctly partitioned: True\n"
     ]
    }
   ],
   "source": [
    "print(\"Non_SCSE_df correctly partitioned:\", len(Non_SCSE_df.loc[(Non_SCSE_df['Faculty'].notnull()) | (Non_SCSE_df['Position'].notnull()) |\n",
    "               (Non_SCSE_df['Gender'].notnull()) | (Non_SCSE_df['Management'].notnull()) |\n",
    "               (Non_SCSE_df['Area'].notnull())])==0)\n",
    "print(\"SCSE_df correctly partitioned:\", len(SCSE_df.loc[(SCSE_df['Faculty'].isnull()) | (SCSE_df['Position'].isnull()) |\n",
    "               (SCSE_df['Gender'].isnull()) | (SCSE_df['Management'].isnull()) |\n",
    "               (SCSE_df['Area'].isnull())])==0)"
   ]
  },
  {
   "cell_type": "code",
   "execution_count": 10,
   "id": "fleet-douglas",
   "metadata": {},
   "outputs": [],
   "source": [
    "joined_df.to_csv('../data/All_Records.csv', index=False)\n",
    "Non_SCSE_df.to_csv('../data/Non_SCSE_Records.csv', index=False)\n",
    "SCSE_df.to_csv('../data/SCSE_Records.csv', index=False)"
   ]
  },
  {
   "cell_type": "code",
   "execution_count": null,
   "id": "ideal-arkansas",
   "metadata": {},
   "outputs": [],
   "source": []
  }
 ],
 "metadata": {
  "kernelspec": {
   "display_name": "Python 3",
   "language": "python",
   "name": "python3"
  },
  "language_info": {
   "codemirror_mode": {
    "name": "ipython",
    "version": 3
   },
   "file_extension": ".py",
   "mimetype": "text/x-python",
   "name": "python",
   "nbconvert_exporter": "python",
   "pygments_lexer": "ipython3",
   "version": "3.9.2"
  }
 },
 "nbformat": 4,
 "nbformat_minor": 5
}
